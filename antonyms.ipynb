{
  "nbformat": 4,
  "nbformat_minor": 0,
  "metadata": {
    "colab": {
      "provenance": [],
      "authorship_tag": "ABX9TyOBNdkS8D/AP5m4mWJDKZnR",
      "include_colab_link": true
    },
    "kernelspec": {
      "name": "python3",
      "display_name": "Python 3"
    },
    "language_info": {
      "name": "python"
    }
  },
  "cells": [
    {
      "cell_type": "markdown",
      "metadata": {
        "id": "view-in-github",
        "colab_type": "text"
      },
      "source": [
        "<a href=\"https://colab.research.google.com/github/iranfromiran/exercise2-preprocessing/blob/main/antonyms.ipynb\" target=\"_parent\"><img src=\"https://colab.research.google.com/assets/colab-badge.svg\" alt=\"Open In Colab\"/></a>"
      ]
    },
    {
      "cell_type": "code",
      "execution_count": 2,
      "metadata": {
        "colab": {
          "base_uri": "https://localhost:8080/"
        },
        "id": "6BKMVFFLbMjf",
        "outputId": "7721eab5-0fa4-4e11-94fa-7eea6b61e115"
      },
      "outputs": [
        {
          "output_type": "stream",
          "name": "stderr",
          "text": [
            "[nltk_data] Downloading package wordnet to /root/nltk_data...\n",
            "[nltk_data]   Package wordnet is already up-to-date!\n"
          ]
        }
      ],
      "source": [
        "import nltk\n",
        "nltk.download ('wordnet')\n",
        "from nltk.corpus import wordnet\n"
      ]
    },
    {
      "cell_type": "code",
      "source": [
        "antonyms = []\n",
        "\n",
        "for s in wordnet.synsets('courageous'):\n",
        "    for l in s.lemmas():\n",
        "        if l.antonyms():\n",
        "            antonyms.append(l.antonyms()[0].name())\n",
        "\n",
        "\n",
        "# Print first antonym\n",
        "print(\"first antonym of courageous : \", set(antonyms))"
      ],
      "metadata": {
        "colab": {
          "base_uri": "https://localhost:8080/"
        },
        "id": "PNMJXOggbhlB",
        "outputId": "2f3ada42-5b5c-4b75-e15a-9ee68dfc2f14"
      },
      "execution_count": 3,
      "outputs": [
        {
          "output_type": "stream",
          "name": "stdout",
          "text": [
            "first antonym of courageous :  {'cowardly'}\n"
          ]
        }
      ]
    },
    {
      "cell_type": "code",
      "source": [
        "antonyms = []\n",
        "\n",
        "for s in wordnet.synsets('courageous'):\n",
        "\n",
        "  for l in s.lemmas():\n",
        "\n",
        "    if l.antonyms():\n",
        "      first_antonym = l.antonyms()[0].name()\n",
        "      second_antonym = None\n",
        "      if len(l.antonyms()) > 1:\n",
        "        second_antonym = l.antonyms()[1].name()\n",
        "    antonyms.append((first_antonym, second_antonym))\n",
        "\n",
        "\n",
        "# Print first two antonyms\n",
        "print(\"first two antonyms of courageous = \", set(antonyms))"
      ],
      "metadata": {
        "colab": {
          "base_uri": "https://localhost:8080/"
        },
        "id": "x3P85l2Ub6ZH",
        "outputId": "fe74461e-4d3c-4b00-a923-dda37ac63753"
      },
      "execution_count": 4,
      "outputs": [
        {
          "output_type": "stream",
          "name": "stdout",
          "text": [
            "first two antonyms of courageous =  {('cowardly', None)}\n"
          ]
        }
      ]
    }
  ]
}